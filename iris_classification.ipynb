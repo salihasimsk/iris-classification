{
 "cells": [
  {
   "cell_type": "markdown",
   "id": "e15f93ed",
   "metadata": {},
   "source": [
    "# Iris Flower Classification (scikit-learn)"
   ]
  },
  {
   "cell_type": "code",
   "execution_count": null,
   "id": "b3e455d3",
   "metadata": {},
   "outputs": [],
   "source": [
    "from sklearn.datasets import load_iris\n",
    "from sklearn.model_selection import train_test_split\n",
    "from sklearn.linear_model import LogisticRegression\n",
    "from sklearn.tree import DecisionTreeClassifier\n",
    "from sklearn.metrics import accuracy_score, confusion_matrix\n",
    "import matplotlib.pyplot as plt\n",
    "import pandas as pd\n",
    "from pathlib import Path\n",
    "import joblib\n",
    "\n",
    "FIG_DIR = Path('figures'); FIG_DIR.mkdir(exist_ok=True)\n",
    "MODEL_DIR = Path('models'); MODEL_DIR.mkdir(exist_ok=True)"
   ]
  },
  {
   "cell_type": "code",
   "execution_count": null,
   "id": "534e1739",
   "metadata": {},
   "outputs": [],
   "source": [
    "iris = load_iris(as_frame=True)\n",
    "X = iris.data\n",
    "y = iris.target\n",
    "df = X.copy(); df['target'] = y\n",
    "ax = df.hist(figsize=(8,6))\n",
    "plt.tight_layout()\n",
    "plt.savefig(FIG_DIR / 'feature_histograms.png', dpi=150)\n",
    "plt.show()"
   ]
  },
  {
   "cell_type": "code",
   "execution_count": null,
   "id": "39237a96",
   "metadata": {},
   "outputs": [],
   "source": [
    "X_train, X_test, y_train, y_test = train_test_split(X, y, test_size=0.2, random_state=42, stratify=y)\n",
    "\n",
    "lr = LogisticRegression(max_iter=500)\n",
    "lr.fit(X_train, y_train)\n",
    "y_pred_lr = lr.predict(X_test)\n",
    "acc_lr = accuracy_score(y_test, y_pred_lr)\n",
    "cm_lr = confusion_matrix(y_test, y_pred_lr)\n",
    "fig, ax = plt.subplots(figsize=(5,4))\n",
    "im = ax.imshow(cm_lr, interpolation='nearest')\n",
    "ax.set_title(f'Confusion Matrix - Logistic Regression (acc={acc_lr:.2f})')\n",
    "ax.set_xlabel('Predicted'); ax.set_ylabel('True')\n",
    "plt.tight_layout()\n",
    "plt.savefig(FIG_DIR / 'cm_lr.png', dpi=150)\n",
    "plt.show()\n",
    "joblib.dump(lr, MODEL_DIR / 'logreg.joblib')"
   ]
  },
  {
   "cell_type": "code",
   "execution_count": null,
   "id": "1d6d16f1",
   "metadata": {},
   "outputs": [],
   "source": [
    "dt = DecisionTreeClassifier(random_state=42)\n",
    "dt.fit(X_train, y_train)\n",
    "y_pred_dt = dt.predict(X_test)\n",
    "acc_dt = accuracy_score(y_test, y_pred_dt)\n",
    "cm_dt = confusion_matrix(y_test, y_pred_dt)\n",
    "fig, ax = plt.subplots(figsize=(5,4))\n",
    "im = ax.imshow(cm_dt, interpolation='nearest')\n",
    "ax.set_title(f'Confusion Matrix - Decision Tree (acc={acc_dt:.2f})')\n",
    "ax.set_xlabel('Predicted'); ax.set_ylabel('True')\n",
    "plt.tight_layout()\n",
    "plt.savefig(FIG_DIR / 'cm_dt.png', dpi=150)\n",
    "plt.show()\n",
    "joblib.dump(dt, MODEL_DIR / 'decision_tree.joblib')\n",
    "print(f'LR acc: {acc_lr:.3f} | DT acc: {acc_dt:.3f}')"
   ]
  }
 ],
 "metadata": {},
 "nbformat": 4,
 "nbformat_minor": 5
}
